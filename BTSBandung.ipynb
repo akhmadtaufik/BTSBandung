{
 "cells": [
  {
   "cell_type": "markdown",
   "metadata": {},
   "source": [
    "# Opening and Exploring the Data\n",
    "\n",
    "A mobile carrier operates a country-wide system of Base Transceiver Stations (BTS). The BTS system is the part of a GSM network that is responsible for the reception and transmission of radio signals from mobile phones.\n",
    "\n",
    "There were approxiamately 700 Base Transceiver  Station in Bandung. I found [a data set](http://data.bandung.go.id/dataset/data-menara-telekomunikasi-di-kota-bandung) containing data about approximately 700 BTS from [OpenData Kota Bandung](http://data.bandung.go.id/)\n",
    "\n",
    "Let's start by opening the data set then continue with exploring the data."
   ]
  },
  {
   "cell_type": "code",
   "execution_count": 1,
   "metadata": {},
   "outputs": [],
   "source": [
    "from csv import reader\n",
    "\n",
    "opened_file = open ('DataBTSBandung2017.csv')\n",
    "read_file = reader (opened_file)\n",
    "BTS = list (read_file)\n",
    "BTS_Header = BTS [0]\n",
    "BTS = BTS [1:]"
   ]
  },
  {
   "cell_type": "markdown",
   "metadata": {},
   "source": [
    "To make it easier to explore data set, we'll first write a function named **explore_data()** that we can use repeatedly to explore rows in a more readable way. We'll also add an option for our function to show the number of rows and columns for any data set."
   ]
  },
  {
   "cell_type": "code",
   "execution_count": 2,
   "metadata": {},
   "outputs": [],
   "source": [
    "def explore_data (dataset, start, end, row_and_columns = False):\n",
    "    dataset_slice = dataset [start:end]\n",
    "    for row in dataset_slice:\n",
    "        print (row)\n",
    "        print ('\\n')\n",
    "        \n",
    "    if row_and_columns:\n",
    "        print ('Number of Rows: ', len(dataset))\n",
    "        print ('Number of Columns: ', len(dataset[0]))"
   ]
  },
  {
   "cell_type": "code",
   "execution_count": 3,
   "metadata": {
    "scrolled": true
   },
   "outputs": [
    {
     "name": "stdout",
     "output_type": "stream",
     "text": [
      "['No.', 'Kecamatan', 'Kelurahan', 'ID Survey', 'Pemilik Menara', 'Lokasi', 'Operator', 'Longdesimal', 'Latdesimal', 'Tower Height', 'Building Heights', 'Struktur Tower', 'Kategori', 'Tahun Pendirian', 'Kelistrikan', 'Status Lahan', 'Keterangan Lain-lain']\n",
      "\n",
      "\n",
      "['1', 'Gedebage', 'Rancabolang', 'Team 1 site 2', 'Tower Bersama Group', 'Jl. Gedebage Selatan', 'Telkomsel- Smartfren', '107.687.346', '-6.952.163', '72', '0', '4 Kaki', 'BTS', '2003', 'PLN + GENSET', 'Sewa', '-']\n",
      "\n",
      "\n",
      "['2', 'Gedebage', 'Rancabolang', 'Team 1 site 3', 'Natrindo Telepon Seluler', 'Jl. Gedebage Rancabolang', 'Tidak Teridentifikasi', '107.686.927', '-695.375', '42', '0', '3 Kaki', 'BTS', '2008', 'PLN', 'Sewa', 'Sudah Tidak Aktif']\n",
      "\n",
      "\n",
      "['3', 'Gedebage', 'Rancanumpang', 'Team 1 site 6', 'Tower Bersama Group', 'Jl. Rancanumpang Rt 05/07', 'Telkomsel', '107.704.759', '-6.964.942', '65', '0', '4 Kaki', 'BTS', '-', 'PLN', 'Sewa', '-']\n",
      "\n",
      "\n",
      "Number of Rows:  667\n",
      "Number of Columns:  17\n"
     ]
    }
   ],
   "source": [
    "print (BTS_Header)\n",
    "print ('\\n')\n",
    "explore_data (BTS, 0, 3, True)"
   ]
  },
  {
   "cell_type": "markdown",
   "metadata": {},
   "source": [
    "We see that the BTS data set has 667 point and 17 columns. At a quick glance, the columns that might be useful for the purpose of our analysis are 'Kecamatan', 'Kelurahan', 'Operator', and 'Keterangan Lain-lain'."
   ]
  },
  {
   "cell_type": "markdown",
   "metadata": {},
   "source": [
    "# Filtering Data Entries\n",
    "\n",
    "If we explore the data set long enough, we'll find that some BTS are no longer active. For instance, If we explore in column **Keterangan dan lain-lain** , then it will be found BTS no longer active:\n"
   ]
  },
  {
   "cell_type": "code",
   "execution_count": 4,
   "metadata": {},
   "outputs": [
    {
     "name": "stdout",
     "output_type": "stream",
     "text": [
      "['2', 'Gedebage', 'Rancabolang', 'Team 1 site 3', 'Natrindo Telepon Seluler', 'Jl. Gedebage Rancabolang', 'Tidak Teridentifikasi', '107.686.927', '-695.375', '42', '0', '3 Kaki', 'BTS', '2008', 'PLN', 'Sewa', 'Sudah Tidak Aktif']\n",
      "\n",
      "\n",
      "['7', 'Panyileukan', 'Mekarmulya', 'Team 1 site 15', 'Protelindo', 'Jl. Mekarmulya', 'Tidak Teridentifikasi', '107.699.515', '-6.935.509', '42', '0', 'Monopole', 'BTS', '-', 'PLN', 'Sewa', 'Sudah Tidak Aktif']\n",
      "\n",
      "\n",
      "['9', 'Panyileukan', 'Cipadung Kulon', 'Team 1 Site 20', 'Natrindo Telepon Seluler', 'Jl. H. Nasution', 'Tidak Teridentifikasi', '107.709.813', '-6.924.835', '32', '0', '3 Kaki', 'BTS', '2008', 'PLN', 'Sewa', 'Sudah Tidak Aktif']\n",
      "\n",
      "\n",
      "['17', 'Rancasari', 'Derwati', 'Team 1 Site 37', 'Natrindo Telepon Seluler', 'Jl. Derwati Rt 05/05', 'Tidak Teridentifikasi', '107.684.744', '-6.965.642', '32', '0', '3 Kaki', 'BTS', '-', 'PLN', 'Sewa', 'Sudah Tidak Aktif']\n",
      "\n",
      "\n",
      "['20', 'Rancasari', 'Cipamokolan', 'Team 1 Site 44', 'Natrindo Telepon Seluler', 'Jl. Ranca Loa', 'AXIS', '107.676.674', '-6.947.139', '42', '0', '3 Kaki', 'BTS', '-', 'PLN', 'Sewa', 'Sudah Tidak Aktif']\n",
      "\n",
      "\n",
      "['30', 'Buahbatu', 'Cijaura', 'Team 1 Site 61', 'Bakrie Telekom', 'Jl. Cijaura Ilir No. 62', 'Tidak Teridentifikasi', '107.656.512', '-6.957.143', '6', '8', 'Pole Rooftop', 'BTS', '-', 'PLN', 'Sewa', 'Sudah Tidak Aktif']\n",
      "\n",
      "\n",
      "['35', 'Buahbatu', 'Cijaura', 'Team 1 Site 72', 'Global Tower', 'Jl. Pasar Kordon', '-', '10.763.976', '-6.954.365', '32', '0', 'Kamuflase Minaret Di Masjid', 'BTS', '-', 'PLN', 'Sewa', 'Sudah Tidak Aktif']\n",
      "\n",
      "\n",
      "['52', 'Buahbatu', 'Manjah Lega', 'Team 1 Site 111', 'Tritunggal Putra Perkasa', 'Jl. Rancabolang Margahayu Raya', 'Tidak Teridentifikasi', '107.661.746', '-6.950.642', '30', '6', '4 Kaki', 'BTS', '-', 'PLN', 'Sewa', 'Sudah Tidak Aktif']\n",
      "\n",
      "\n",
      "['130', 'Bandung Kidul', 'Batu Nunggal', 'Team 1 Site 255', 'Solusi Tunas Pratama', 'Jl. Soekarno Hatta No. 402', 'Esia', '107.623.807', '-6.949.998', '12', '24', 'Pole Rooftop', 'BTS', '-', 'PLN', 'Sewa', 'Sudah Tidak Aktif']\n",
      "\n",
      "\n",
      "['132', 'Lengkong', 'Turangga', 'Team 1 Site 258', 'Mara Fm', 'Jl. Guntur Sari Wetan', 'Indosat', '107.634.337', '-6.945.107', '62', '0', '4 Kaki', 'BTS', '-', 'PLN', 'Sewa', 'Sudah Tidak Aktif']\n",
      "\n",
      "\n",
      "['138', 'Lengkong', 'Lingkar Selatan', 'Team 1 Site 274', 'Natrindo Telepon Seluler', 'Jl. Pelajar Pejuang', 'Axis', '107.626.345', '-6.926.513', '25', '6', '3 Kaki', 'BTS', '-', 'PLN', 'Sewa', 'Sudah Tidak Aktif']\n",
      "\n",
      "\n",
      "['144', 'Lengkong', 'Malabar', 'Team 1 Site 287', 'Natrindo Telepon Seluler', 'Jl. Katapang', 'Axis', '107.619.649', '-6.921.653', '25', '9', '3 Kaki', 'BTS', '-', 'PLN', 'Sewa', 'Sudah Tidak Aktif']\n",
      "\n",
      "\n",
      "['168', 'Antapani', 'Parakan Saat', 'Team 1 Site 338', 'Tower Bersama Group', 'Jl. Cibodas', 'Inosat- Flexi- Axis- Esia', '107.664.062', '-6.924.757', '42', '0', '4 Kaki', 'BTS', '-', 'PLN', 'Sewa', 'Sudah Tidak Aktif']\n",
      "\n",
      "\n",
      "['208', 'Batu Nunggal', 'Kacapiring', 'Team 1 Site 418', 'Natrindo Telepon Seluler', 'Jl. Jendral Ahmad Yani No. 326', 'NTS', '107.634.747', '-6.912.998', '15', '10', '3 Kaki', 'BTS', '2006', 'PLN', 'Sewa', 'Sudah Tidak Aktif']\n",
      "\n",
      "\n",
      "['282', 'Bojongloa Kidul', 'Situ Subur', 'Team 2 Site 107', 'Solusi Tunas Pratama', 'Jl. Kebon Loya 2 Rt 11/04', 'Esia- HCPT', '107.597.119', '-6.941.062', '42', '0', '4 Kaki', 'BTS', '-', 'PLN', 'Sewa', 'Sudah Tidak Aktif']\n",
      "\n",
      "\n",
      "['288', 'Bojongloa Kidul', 'Situ Saur', 'Team 2 Site 127', 'Telkomsel', 'Jl. Peta', 'Telkomsel', '107.597.459', '-6.937.915', '36', '8', '4 Kaki', 'BTS', '-', 'PLN', 'Sewa', 'Sudah Tidak Aktif']\n",
      "\n",
      "\n",
      "['291', 'Babakan Ciparay', 'Sukahaji', 'Team 2 Site 133', 'Xl Axiata', 'Jl. Pagarsih Barat', 'HCPT', '107.584.348', '-6.921.888', '18', '12', '3 Kaki', 'BTS', '-', 'PLN', 'Sewa', 'Sudah Tidak Aktif']\n",
      "\n",
      "\n",
      "['310', 'Bojongloa Kidul', 'Cibaduyut', 'Team 2 Site 168', 'Natrindo Telepon Seluler', 'Jl. Ciparay Tengah No. 3 Rt 05/01', 'AXIS', '107.592.848', '-6.962.134', '32', '0', '3 Kaki', 'BTS', '-', 'PLN', 'Sewa', 'Sudah Tidak Aktif']\n",
      "\n",
      "\n",
      "['314', 'Astana Anyar', 'Cibadak', 'Team 2 Site 175', 'Natrindo Telepon Seluler', 'Jl. Cibadak', 'Tidak Teridentifikasi', '107.593.837', '-6.921.409', '32', '0', 'Monopole', 'BTS', '2006', 'PLN', 'Sewa', 'Sudah Tidak Aktif']\n",
      "\n",
      "\n",
      "['327', 'Regol', 'Pungkur', 'Team 2 Site 200', 'Natrindo Telepon Seluler', 'Jl. Pungkur (Abdul Muis) No. 49 B', 'NTS', '107.605.347', '-6.927.361', '15', '11', '3 Kaki', 'BTS', '-', 'PLN', 'Sewa', 'Sudah Tidak Aktif']\n",
      "\n",
      "\n",
      "['342', 'Regol', 'Kebon Pisang', 'Team 2 Site 228', 'Ibs', 'Jl. Dalem Kaum', 'Tidak teridentifikasi', '107.605.021', '-692.213', '6', '20', 'Pole Rooftop', 'BTS', '-', 'PLN', 'Sewa', 'Sudah Tidak Aktif']\n",
      "\n",
      "\n",
      "['372', 'Sukajadi', 'Cipedes', 'Team 2 Site 293', 'Solusi Tunas Pratama', 'Jl. Sukajadi', 'Esia- HCPT', '10.759.707', '-6.894.556', '3', '11', 'Pole Rooftop', 'BTS', '-', 'PLN', 'Sewa', 'Sudah Tidak Aktif']\n",
      "\n",
      "\n",
      "['375', 'Sukajadi', 'Pasteur', 'Team 2 Site 299', 'Natrindo Telepon Seluler', 'Jl. Sukajadi', 'AXIS', '107.596.814', '-6.885.118', '9', '10', 'Pole Rooftop', 'BTS', '-', 'PLN', 'Sewa', 'Sudah Tidak Aktif']\n",
      "\n",
      "\n",
      "['398', 'Sukasari', 'Sarijadi', 'Team 2 Site 342', 'Milik Sekolah', 'Jl. Sari Manis', 'Flexi', '107.574.027', '-6.878.226', '50', '0', 'Monopole', 'BTS', '2003', 'PLN', 'Sewa', 'Sudah Tidak Aktif']\n",
      "\n",
      "\n",
      "['405', 'Sukasari', 'KPAD', 'Team 2 Site 354', 'Natrindo Telepon Seluler', 'Jl. Geger Kalong Girang', 'NTS', '107.584.433', '-6.862.132', '30', '0', 'Monopole', 'BTS', '-', 'PLN', 'Sewa', 'Sudah Tidak Aktif']\n",
      "\n",
      "\n",
      "['409', 'Sukasari', 'Geger Kalong', 'Team 2 Site 359', 'Smartfren', 'Jl. Geger Kalong Rt 05/03', 'Smartfren', '107.592.823', '-6.864.739', '20', '9', 'Pole Rooftop', 'BTS', '-', 'GENSET', 'Sewa', 'Sudah Tidak Aktif']\n",
      "\n",
      "\n",
      "['415', 'Cidadap', 'Cidedeng', 'Team 2 Site 371', 'Natrindo Telepon Seluler', 'Jl. Setia Budi 49', 'AXIS', '107.594.568', '-685.743', '52', '0', '3 Kaki', 'BTS', '2006', 'PLN', 'Sewa', 'Sudah Tidak Aktif']\n",
      "\n",
      "\n",
      "['485', 'Cibeunying Kaler', 'Sekeloa', 'Team 2 Site 487', 'Natrindo Telepon Seluler', 'Jl. Cindulang Baru Rt 04/11', 'Axis', '107.619.759', '-6.885.787', '42', '0', '4 Kaki', 'BTS', '2006', 'PLN', 'Sewa', 'Sudah Tidak Aktif']\n",
      "\n",
      "\n",
      "['534', 'Bandung Wetan', 'Citarum', 'Team 2 Site 573', 'Telkomsel', 'Jl. Merdeka', 'Telkomsel', '107.610.467', '-6.907.086', '12', '0', 'Microcell Pole', 'BTS', '-', 'PLN', 'Sewa', 'Sudah Tidak Aktif']\n",
      "\n",
      "\n",
      "['556', 'Sumur Bandung', 'Braga', 'Team 2 Site 603', 'Natrindo Telepon Seluler', 'Jl. Otista No. 43', 'NTS', '107.604.322', '-6.916.429', '20', '15', '3 Kaki', 'BTS', '-', 'PLN', 'Sewa', 'Sudah Tidak Aktif']\n",
      "\n",
      "\n",
      "['565', 'Arcamanik', 'Cisaranteun Indah', 'Team 2 sitetambahan_2', 'Bakrie Telekom', 'Jl. Parakaan Saat', 'ESIA', '107.668.228', '-6.934.056', '-', '-', 'Pole Rooftop', '-', '-', '-', '-', 'Sudah Tidak Aktif']\n",
      "\n",
      "\n",
      "['598', 'Arcamanik', 'SINDANG JAYA', 'Team 2 sitetambahan_85', 'Telkomsel', 'Jl. Terusan Pesantren', 'TELKOMSEL', '107.680.135', '-6.911.364', '55', '-', 'Monopole', 'BTS', '-', 'PLN', 'Sewa', 'Sudah Tidak Aktif']\n",
      "\n",
      "\n"
     ]
    }
   ],
   "source": [
    "for itr in BTS:\n",
    "    status = itr[-1]\n",
    "    if status == \"Sudah Tidak Aktif\":\n",
    "        print (itr)\n",
    "        print ('\\n')"
   ]
  },
  {
   "cell_type": "markdown",
   "metadata": {},
   "source": [
    "As soon as we find the BTS does not have an operator:"
   ]
  },
  {
   "cell_type": "code",
   "execution_count": 5,
   "metadata": {},
   "outputs": [
    {
     "name": "stdout",
     "output_type": "stream",
     "text": [
      "['335', 'Sumur Bandung', 'Kebon Pisang', 'Team 2 Site 219', 'Yogya Group', 'Jl. Sunda No. 83', 'Tidak teridentifikasi', '107.618.041', '-691.778', '25', '15', '4 Kaki', 'BTS', '-', 'PLN', 'Sewa', 'Sudah Tidak Ada Operator']\n",
      "\n",
      "\n",
      "['345', 'Cicendo', 'Sukaraja', 'Team 2 Site 233', 'Lita Fm', 'Jl. Budi No. 42', 'Tidak teridentifikasi', '107.558.706', '-6.890.928', '45', '0', '4 Kaki', 'BTS', '-', 'PLN', 'Hak', 'Sudah Tidak Ada Operator']\n",
      "\n",
      "\n",
      "['438', 'Bandung Wetan', 'Taman Sari', 'Team 2 Site 416', 'Tidak Teridentifikasi', 'Jl. Taman Sari', 'Tidak Teridentifikasi', '107.608.474', '-6.893.787', '26', '0', 'Microcell Pole', 'BTS', '-', 'PLN', 'Sewa', 'Sudah Tidak Ada Operator']\n",
      "\n",
      "\n",
      "['496', 'Coblong', 'Lebak Gede', 'Team 2 Site 515', 'Pertamina', 'Jl. Raya Diponegoro', 'Tidak Teridentifikasi', '107.617.873', '-689.905', '25', '0', '4 Kaki', 'BTS', '-', 'PLN', 'Hak', 'Sudah Tidak Ada Operator']\n",
      "\n",
      "\n"
     ]
    }
   ],
   "source": [
    "for itr in BTS:\n",
    "    status = itr[-1]\n",
    "    if status == \"Sudah Tidak Ada Operator\":\n",
    "        print (itr)\n",
    "        print ('\\n')"
   ]
  },
  {
   "cell_type": "markdown",
   "metadata": {},
   "source": [
    "Or we will find the BTS sealed:"
   ]
  },
  {
   "cell_type": "code",
   "execution_count": 6,
   "metadata": {
    "scrolled": true
   },
   "outputs": [
    {
     "name": "stdout",
     "output_type": "stream",
     "text": [
      "['466', 'Coblong', 'Lebak Siliwangi', 'Team 2 Site 454', 'Telkomsel', 'Jl. Siliwangi', 'Telkomsel', '107.612.824', '-6.885.215', '15', '0', 'Monopole', 'BTS', '-', 'PLN', 'Sewa', 'Disegel']\n",
      "\n",
      "\n",
      "['566', 'Coblong', 'Dago', 'Team 2 sitetambahan_12', 'Telkomsel', 'Jl. Ir. H. Djuanda', 'Tidak Teridentifikasi', '107.619.178', '-6.874.449', '15', '-', 'Microcell Pole', 'BTS', '-', 'GENSET', 'Sewa', 'Disegel']\n",
      "\n",
      "\n"
     ]
    }
   ],
   "source": [
    "for itr in BTS:\n",
    "    status = itr[-1]\n",
    "    if status == \"Disegel\":\n",
    "        print (itr)\n",
    "        print ('\\n')"
   ]
  },
  {
   "cell_type": "code",
   "execution_count": 7,
   "metadata": {},
   "outputs": [
    {
     "name": "stdout",
     "output_type": "stream",
     "text": [
      "['35', 'Buahbatu', 'Cijaura', 'Team 1 Site 72', 'Global Tower', 'Jl. Pasar Kordon', '-', '10.763.976', '-6.954.365', '32', '0', 'Kamuflase Minaret Di Masjid', 'BTS', '-', 'PLN', 'Sewa', 'Sudah Tidak Aktif']\n",
      "\n",
      "\n",
      "['624', 'Coblong', 'Dago', 'Tambahan', 'Protelindo', 'Jl. Cisitu Indah Vl No.181 Rt.001/004', '-', '10.761.395', '-68.729', 'RT 12m', '-', 'Pole Rooftop', '-', '-', '-', '-', '-']\n",
      "\n",
      "\n",
      "['625', 'Bojongloa Kidul', 'Mekar wangi', 'Tambahan', 'Protelindo', 'Jalan Tol Moh Toha', '-', '10.760.316', '-696.213', 'GF 27m', '-', 'Monopole', '-', '-', '-', '-', '-']\n",
      "\n",
      "\n",
      "['626', 'Andir', 'kebon jeruk', 'Tambahan', 'Protelindo', ' Jl. Gardu Jati No. 81-83 Rt.02/07 . King Garden Hotel', '-', '10.759.788', '-69.174', 'RT 6m', '-', 'Pole Rooftop', '-', '-', '-', '-', '-']\n",
      "\n",
      "\n",
      "['627', 'Cibeunying Kaler', 'Cigadung', 'Tambahan', 'Protelindo', 'Gg. Masjid Al-Ikhlas Rt. 02 Rw. 08', '-', '10.762.675', '-688.318', 'RT 6m', '-', 'Pole Rooftop', '-', '-', '-', '-', '-']\n",
      "\n",
      "\n",
      "['628', 'Lengkong', 'CIJAGRA', 'Tambahan', 'Protelindo', 'Jl. Buahbatu No.148 Rt.01/01', '-', '10.762.482', '-693.938', 'RT  6m', '-', 'Pole Rooftop', '-', '-', '-', '-', '-']\n",
      "\n",
      "\n",
      "['630', 'Lengkong', 'Cijagra', 'Tambahan', 'Protelindo', 'Jl. Sukarno – Hatta No. 505', '-', '10.762.836', '-694.801', 'GF 18m', '-', 'Monopole', '-', '-', '-', '-', '-']\n",
      "\n",
      "\n",
      "['631', 'Bojongloa Kidul', 'Kebon lega', 'Tambahan', 'Protelindo', 'Jl. Karasak Barat Mekar Mas Kav. 5E. Komplek Pertokoan Istana Mekarwangi ', '-', '107.602.202', '-69.488.793', 'RT 6m', '-', 'Pole Rooftop', '-', '-', '-', '-', '-']\n",
      "\n",
      "\n",
      "['633', 'Babakan Ciparay', 'Sukahaji', 'Tambahan', 'Protelindo', 'Jl. Babakan Ciparay Gg Air Mancur Rt.006/003', '-', '1.075.831', '-692.996', 'RT 9m', '-', 'Pole Rooftop', '-', '-', '-', '-', '-']\n",
      "\n",
      "\n",
      "['639', 'Bandung Wetan', 'TAMAN SARI', 'Tambahan', 'Daya Mitra Telekomunikasi', 'Jl. Wastukencana Gang Nangkasuni Bandung', '-', '1.076.059', '-69.058.602', 'RT 3m', '-', 'Pole Rooftop', '-', '-', '-', '-', '-']\n",
      "\n",
      "\n",
      "['640', 'Cibenying Kidul', 'Sukapada', 'Tambahan', 'Daya Mitra Telekomunikasi', 'Jl. Bojong Koneng No. 12 Rt 04 Rw 12', '-', '1.076.437.193', '-689.435', 'RT 6m', '-', 'Pole Rooftop', '-', '-', '-', '-', '-']\n",
      "\n",
      "\n",
      "['644', 'Sumur Bandung', 'Merdeka', 'Tambahan', 'Daya Mitra Telekomunikasi', 'Hotel Dafam Rio Jl. Re. Martadinata (Riau) No. 160', '-', '10.762.913', '-691.422', 'RT 9m', '-', 'Pole Rooftop', '-', '-', '-', '-', '-']\n",
      "\n",
      "\n",
      "['645', 'Lengkong', 'Cikawao', 'Tambahan', 'Daya Mitra Telekomunikasi', 'Jl. Melong Kidul Rt.01 / Rw.02', '-', '107.613.863', '-6.929.901', 'RT 12m', '-', 'Pole Rooftop', '-', '-', '-', '-', '-']\n",
      "\n",
      "\n",
      "['646', 'Cibeunying Kaler', 'Cigadung', 'Tambahan', 'Daya Mitra Telekomunikasi', 'Jl. Farmakologi No. 1\\xa0 Rt. 02 Rw. 07', '-', '107.623.264', '-6.882.719', 'GF 20m', '-', 'Microcell Pole', '-', '-', '-', '-', '-']\n",
      "\n",
      "\n",
      "['647', 'Andir', 'Kebon Jeruk', 'Tambahan', 'Daya Mitra Telekomunikasi', 'Jalan Stasiun Selatan No.25', '-', '10.759.898', '-691.365', 'GF 30m', '-', 'Monopole', '-', '-', '-', '-', '-']\n",
      "\n",
      "\n",
      "['648', 'Coblong', 'CIPAGANTI', 'Tambahan', 'Daya Mitra Telekomunikasi', 'Jl. Cihampelas No.121B', '-', '107.603.816', '-689.643', 'GF 9m', '-', 'Microcell Pole', '-', '-', '-', '-', '-']\n",
      "\n",
      "\n",
      "['649', 'Sumur Bandung', 'BRAGA', 'Tambahan', 'Daya Mitra Telekomunikasi', 'Jl. Otto Iskandar Dinata No.99', '-', '10.760.435', '-691.808', 'GF 9m', '-', 'Microcell Pole', '-', '-', '-', '-', '-']\n",
      "\n",
      "\n",
      "['650', 'Sukajadi', '', 'Tambahan', 'Daya Mitra Telekomunikasi', 'Masjid Al Muraby. Jl. Hegarmanah No.10', '-', '1.075.823.777', '-68.811.867', 'RT 9m', '-', 'Pole Rooftop', '-', '-', '-', '-', '-']\n",
      "\n",
      "\n",
      "['651', 'Babakan Ciparay', 'Babakan', 'Tambahan', 'Daya Mitra Telekomunikasi', 'Jl. Ters. Suryani Gg. Abadi Rt.03 Rw.02', '-', '10.757.957', '-692.615', 'GF 30m', '-', 'Monopole', '-', '-', '-', '-', '-']\n",
      "\n",
      "\n",
      "['652', 'Bandung Kidul', 'Batununggal', 'Tambahan', 'Daya Mitra Telekomunikasi', 'Jl. Soekarno Hatta No. 468. Kantor Pkk Propinsi Jawa Barat.', '-', '10.762.754', '-694.972', 'GF 9m', '-', 'Microcell Pole', '-', '-', '-', '-', '-']\n",
      "\n",
      "\n",
      "['656', 'Andir', 'Kebon Jeruk', 'Tambahan', 'Retower Asia', 'Pasar Baru Bandung', '-', '107.603.333', '-69.174', 'RT 3m', '-', 'Pole Rooftop', '-', '-', '-', '-', '-']\n",
      "\n",
      "\n",
      "['657', 'Ujungberung', 'pasirwangi', 'Tambahan', 'Solusi Tunas Pratama', 'Jl. Ciharegem', '-', '10.770.371', '-690.237', 'GF 32m', '-', '4 Kaki', '-', '-', '-', '-', '-']\n",
      "\n",
      "\n",
      "['658', 'Lengkong', 'Turangga', 'Tambahan', 'Ibs', 'Jl. Sekar Manis', '-', '10.762.675', '-6.939.614', 'RT 3m', '-', 'Pole Rooftop', '-', '-', '-', '-', '-']\n",
      "\n",
      "\n",
      "['659', 'Astana Anyar', 'Pelindung Hewan', 'Tambahan', 'Ibs', 'Jl. Pelindung Hewan', '-', '107.604.538', '-6.941.373', 'RT 3m', '-', 'Pole Rooftop', '-', '-', '-', '-', '-']\n",
      "\n",
      "\n",
      "['660', 'Bandung Kulon', 'Cibuntu', 'Tambahan', 'Ibs', 'Jl. H Alpi', '-', '10.757.155', '-692.246', 'GF 25m', '-', '4 Kaki', '-', '-', '-', '-', '-']\n",
      "\n",
      "\n",
      "['661', 'Sukajadi', 'sukawarna', 'Tambahan', 'Daya Mitra Telekomunikasi', 'Jl. Sarimadu', '-', '10.757.487', '-688.395', 'RT 3m', '-', 'Pole Rooftop', '-', '-', '-', '-', '-']\n",
      "\n",
      "\n",
      "['662', 'Ujungberung', 'pasirwangi', 'Tambahan', 'Ibs', 'Jl. Pasirmalaka', '-', '10.770.103', '-69.010.747', 'GF 25m', '-', '4 Kaki', '-', '-', '-', '-', '-']\n",
      "\n",
      "\n",
      "['663', 'Bojongloa Kidul', 'Kebonlega', 'Tambahan', 'Daya Mitra Telekomunikasi', 'Jl. Leuwisari Raya No. 32 Rt 001 Rw 008', '-', '10.759.773', '-694.526', 'GF 20m', '-', 'Microcell Pole', '-', '-', '-', '-', '-']\n",
      "\n",
      "\n",
      "['664', 'Buahbatu', 'Cijawura', 'Tambahan', 'Daya Mitra Telekomunikasi', 'Gg. Neglasari V No.47 Rt.05 Rw.08', '-', '10.765.601', '-69.589', 'GF 20m', '-', 'Microcell Pole', '-', '-', '-', '-', '-']\n",
      "\n",
      "\n",
      "['665', 'Arcamanik', 'Sukamiskin', 'Tambahan', 'Daya Mitra Telekomunikasi', 'Jl. Banjarsari Indah A-If Rt.03/Rw.015', '-', '107.667.069', '-6.919.414', 'RT 6m', '-', 'Pole Rooftop', '-', '-', '-', '-', '-']\n",
      "\n",
      "\n",
      "['666', 'Cibenying Kidul', 'Pasirlayung', 'Tambahan', 'Daya Mitra Telekomunikasi', 'Jl. Sirna Galih No. 22 Rt/Rw. 05/04', '-', '107.657', '-689.526', 'GF 20m', '-', 'Microcell Pole', '-', '-', '-', '-', '-']\n",
      "\n",
      "\n",
      "['667', 'Cibenying Kidul', 'Pasirlayung', 'Tambahan', 'Daya Mitra Telekomunikasi', 'Jl. Mekar II Pasir Honje Rt 02 Rw 01', '-', '10.766.429', '-6.886.046', 'RT 20m', '-', '4 Kaki', '-', '-', '-', '-', '-']\n",
      "\n",
      "\n"
     ]
    }
   ],
   "source": [
    "for itr in BTS:\n",
    "    operator = itr[6]\n",
    "    if operator == \"-\":\n",
    "        print (itr)\n",
    "        print ('\\n')"
   ]
  },
  {
   "cell_type": "markdown",
   "metadata": {},
   "source": [
    "We don't want to count BTS has no longer active when we analyze data, so we need to remove the inactive entries and keep only the active one. One thing we could do is remove the inactive rows manually and separate the list between active and inactive Base Transceiver Stations based on status above."
   ]
  },
  {
   "cell_type": "code",
   "execution_count": 8,
   "metadata": {},
   "outputs": [],
   "source": [
    "BTS_Active = []\n",
    "BTS_Deactive = []\n",
    "\n",
    "for itr in BTS:\n",
    "    status = itr[-1]\n",
    "    operator = itr[6]\n",
    "    \n",
    "    if (operator == \"Tidak Teridentifikasi\" or operator == \"Tidak teridentifikasi\") and (status == \"Sudah Tidak Aktif\"):\n",
    "        BTS_Deactive.append(itr)\n",
    "    elif (operator == \"Tidak Teridentifikasi\" or operator == \"Tidak teridentifikasi\") and (status == \"Sudah Tidak Ada Operator\"):\n",
    "        BTS_Deactive.append(itr)\n",
    "    elif operator == \"-\":\n",
    "        BTS_Deactive.append(itr)\n",
    "    else:\n",
    "        BTS_Active.append(itr)"
   ]
  },
  {
   "cell_type": "code",
   "execution_count": 9,
   "metadata": {},
   "outputs": [
    {
     "name": "stdout",
     "output_type": "stream",
     "text": [
      "['1', 'Gedebage', 'Rancabolang', 'Team 1 site 2', 'Tower Bersama Group', 'Jl. Gedebage Selatan', 'Telkomsel- Smartfren', '107.687.346', '-6.952.163', '72', '0', '4 Kaki', 'BTS', '2003', 'PLN + GENSET', 'Sewa', '-']\n",
      "\n",
      "\n",
      "['3', 'Gedebage', 'Rancanumpang', 'Team 1 site 6', 'Tower Bersama Group', 'Jl. Rancanumpang Rt 05/07', 'Telkomsel', '107.704.759', '-6.964.942', '65', '0', '4 Kaki', 'BTS', '-', 'PLN', 'Sewa', '-']\n",
      "\n",
      "\n",
      "['4', 'Panyileukan', 'Cipadung Kidul', 'Team 1 site 11', 'Xl Axiata', 'Jl. Cimencrang Rt 04/04', 'XL', '10.770.841', '-6.944.872', '32', '0', '3 Kaki', 'BTS', '-', 'PLN', 'Sewa', '-']\n",
      "\n",
      "\n",
      "['5', 'Panyileukan', 'Cipadung Kidul', 'Team 1 site 13', 'Tower Bersama Group', 'Kp. Panyileukan Rt 03/01', 'Telkomsel- HCPT- Smartfren', '107.715.687', '-6.938.283', '42', '0', '4 Kaki', 'BTS', '2004', 'PLN', 'Sewa', '-']\n",
      "\n",
      "\n",
      "['6', 'Panyileukan', 'Cipadung Kidul', 'Team 1 site 14', 'Xl Axiata', 'Jl. Soekarno Hatta No.754', 'XL', '107.710.083', '-6.936.429', '3', '16', 'Pole Rooftop', 'BTS', '-', 'PLN', 'Sewa', '-']\n",
      "\n",
      "\n",
      "Number of Rows:  623\n",
      "Number of Columns:  17\n"
     ]
    }
   ],
   "source": [
    "explore_data (BTS_Active, 0, 5, True)"
   ]
  },
  {
   "cell_type": "markdown",
   "metadata": {},
   "source": [
    "We see that the **BTS_Active** data set has 623 points and 17 columns."
   ]
  },
  {
   "cell_type": "code",
   "execution_count": 10,
   "metadata": {},
   "outputs": [
    {
     "name": "stdout",
     "output_type": "stream",
     "text": [
      "['2', 'Gedebage', 'Rancabolang', 'Team 1 site 3', 'Natrindo Telepon Seluler', 'Jl. Gedebage Rancabolang', 'Tidak Teridentifikasi', '107.686.927', '-695.375', '42', '0', '3 Kaki', 'BTS', '2008', 'PLN', 'Sewa', 'Sudah Tidak Aktif']\n",
      "\n",
      "\n",
      "['7', 'Panyileukan', 'Mekarmulya', 'Team 1 site 15', 'Protelindo', 'Jl. Mekarmulya', 'Tidak Teridentifikasi', '107.699.515', '-6.935.509', '42', '0', 'Monopole', 'BTS', '-', 'PLN', 'Sewa', 'Sudah Tidak Aktif']\n",
      "\n",
      "\n",
      "['9', 'Panyileukan', 'Cipadung Kulon', 'Team 1 Site 20', 'Natrindo Telepon Seluler', 'Jl. H. Nasution', 'Tidak Teridentifikasi', '107.709.813', '-6.924.835', '32', '0', '3 Kaki', 'BTS', '2008', 'PLN', 'Sewa', 'Sudah Tidak Aktif']\n",
      "\n",
      "\n",
      "['17', 'Rancasari', 'Derwati', 'Team 1 Site 37', 'Natrindo Telepon Seluler', 'Jl. Derwati Rt 05/05', 'Tidak Teridentifikasi', '107.684.744', '-6.965.642', '32', '0', '3 Kaki', 'BTS', '-', 'PLN', 'Sewa', 'Sudah Tidak Aktif']\n",
      "\n",
      "\n",
      "['30', 'Buahbatu', 'Cijaura', 'Team 1 Site 61', 'Bakrie Telekom', 'Jl. Cijaura Ilir No. 62', 'Tidak Teridentifikasi', '107.656.512', '-6.957.143', '6', '8', 'Pole Rooftop', 'BTS', '-', 'PLN', 'Sewa', 'Sudah Tidak Aktif']\n",
      "\n",
      "\n",
      "Number of Rows:  44\n",
      "Number of Columns:  17\n"
     ]
    }
   ],
   "source": [
    "explore_data (BTS_Deactive, 0, 5, True)"
   ]
  },
  {
   "cell_type": "markdown",
   "metadata": {},
   "source": [
    "We see that the **BTS_Deactive** data set has 44 points and 17 columns."
   ]
  },
  {
   "cell_type": "markdown",
   "metadata": {},
   "source": [
    "# Number of BTS By District\n",
    "\n",
    "We'll build two functions we can use to analyze the frequency tables:\n",
    "\n",
    "* One function to generate frequency tables that show total\n",
    "* Another function that we can use to display the number in a descending order\n"
   ]
  },
  {
   "cell_type": "code",
   "execution_count": 11,
   "metadata": {},
   "outputs": [],
   "source": [
    "def freq_table (dataset, index):\n",
    "    table = {}\n",
    "    \n",
    "    for row in dataset:\n",
    "        value = row[index]\n",
    "        if value in table:\n",
    "            table[value] += 1\n",
    "        else: \n",
    "            table[value] = 1\n",
    "    return table"
   ]
  },
  {
   "cell_type": "code",
   "execution_count": 12,
   "metadata": {},
   "outputs": [
    {
     "name": "stdout",
     "output_type": "stream",
     "text": [
      "Coblong : 56\n",
      "Sumur Bandung : 37\n",
      "Cicendo : 31\n",
      "Regol : 30\n",
      "Lengkong : 29\n",
      "Cibenying Kidul : 28\n",
      "Bandung Wetan : 27\n",
      "Batu Nunggal : 25\n",
      "Sukajadi : 24\n",
      "Bandung Kulon : 24\n",
      "Arcamanik : 24\n",
      "Buahbatu : 23\n",
      "Bandung Kidul : 23\n",
      "Andir : 23\n",
      "Babakan Ciparay : 22\n",
      "Sukasari : 21\n",
      "Cidadap : 21\n",
      "Cibeunying Kaler : 18\n",
      "Bojongloa Kidul : 18\n",
      "Antapani : 17\n",
      "Kiaracondong : 14\n",
      "Cibiru : 14\n",
      "Rancasari : 12\n",
      "Mandalajati : 12\n",
      "Astana Anyar : 11\n",
      "Cinambo : 10\n",
      "Ujungberung : 9\n",
      "Panyileukan : 8\n",
      "Bojongloa Kaler : 7\n",
      "Gedebage : 5\n"
     ]
    }
   ],
   "source": [
    "def display_table (dataset, index):\n",
    "    table = freq_table (dataset, index)\n",
    "    table_display = []\n",
    "    for key in table:\n",
    "        key_val_as_tuple = (table[key], key)\n",
    "        table_display.append(key_val_as_tuple)\n",
    "        \n",
    "    table_sorted = sorted (table_display, reverse = True)\n",
    "    for entry in table_sorted:\n",
    "        print (entry[1], ':', entry[0])\n",
    "\n",
    "display_table (BTS_Active, 1)"
   ]
  },
  {
   "cell_type": "markdown",
   "metadata": {},
   "source": [
    "We can see that there is a disparity in the number of BTS distributions in Bandung. Downtown areas such as Coblong (56), Bandung Well (37), Cicendo (31), and Regol (30) are still the largest contributions in the telecommunication network business in Bandung. Unlike Downtown Area, Suburbs has own problems, such as the lack of business, for suburbs such as Ujungberung (9), Panyileukan (8), Bojongloa Kaler (7), and Gedebage (5). "
   ]
  },
  {
   "cell_type": "markdown",
   "metadata": {},
   "source": [
    "# List of Operators in each sub-district\n",
    "\n",
    "Now, we'll look at the distribution of operators in eac Sub District. For example we'll see a list of cellular operators in Buahbatu-District and Gedebage-Disctrict."
   ]
  },
  {
   "cell_type": "code",
   "execution_count": 13,
   "metadata": {},
   "outputs": [
    {
     "name": "stdout",
     "output_type": "stream",
     "text": [
      "Kelurahan -- Operator\n",
      "Margasari : Indosat\n",
      "Cijaura : Telkomsel- HCPT\n",
      "Margacinta : Telkomsel- HCPT\n",
      "Cijaura : Telkomsel\n",
      "Cijaura : Telkomsel\n",
      "Cijaura : XL- Indosat\n",
      "Margasari : XL\n",
      "Cijaura : Smartfren\n",
      "Margacinta : XL\n",
      "Margasari : Telkomsel\n",
      "Margasari : Telkomsel\n",
      "Sekejati : HCPT- Smartfren- XL- Telkomsel\n",
      "Sekejati : Telkomsel- Smartfren\n",
      "Jatisari : Indosat\n",
      "Jatisari : Telkomsel\n",
      "Jatisari : Smartfren\n",
      "Jatisari : Telkomsel\n",
      "Sekajati : Telkomsel\n",
      "Sekajati : XL\n",
      "Sekejati : Telkomsel\n",
      "Sekejati : XL- HCPT- Smartfren\n",
      "Sekejati : Telkomsel\n",
      "Cijagra : Telkomsel\n"
     ]
    }
   ],
   "source": [
    "Headers = \"Kelurahan -- Operator\"\n",
    "print(Headers)\n",
    "for name in BTS_Active:\n",
    "    if name[1] == 'Buahbatu':\n",
    "        print (name[2], ':', name[6])"
   ]
  },
  {
   "cell_type": "code",
   "execution_count": 14,
   "metadata": {},
   "outputs": [
    {
     "name": "stdout",
     "output_type": "stream",
     "text": [
      "Kelurahan -- Operator\n",
      "Rancabolang : Telkomsel- Smartfren\n",
      "Rancanumpang : Telkomsel\n",
      "Rancabolang : XL- Telkomsel- Smartfren- HCPT\n",
      "Rancabolang : Telkomsel- Tidak Teridentifikasi\n",
      "Cisaranten Kidul : Telkomsel\n"
     ]
    }
   ],
   "source": [
    "print (Headers)\n",
    "for name in BTS_Active:\n",
    "    if name[1] == 'Gedebage':\n",
    "        print (name[2], ':', name[6])"
   ]
  },
  {
   "cell_type": "markdown",
   "metadata": {},
   "source": [
    "For the two examples above, we can conclude that Telkomsel still dominates wherever its territory."
   ]
  }
 ],
 "metadata": {
  "kernelspec": {
   "display_name": "Python 3",
   "language": "python",
   "name": "python3"
  },
  "language_info": {
   "codemirror_mode": {
    "name": "ipython",
    "version": 3
   },
   "file_extension": ".py",
   "mimetype": "text/x-python",
   "name": "python",
   "nbconvert_exporter": "python",
   "pygments_lexer": "ipython3",
   "version": "3.7.1"
  }
 },
 "nbformat": 4,
 "nbformat_minor": 2
}
